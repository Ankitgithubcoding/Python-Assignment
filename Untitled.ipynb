{
 "cells": [
  {
   "cell_type": "code",
   "execution_count": 1,
   "id": "b2f4ecb8-4066-47a6-80ff-b3fcf4418aca",
   "metadata": {},
   "outputs": [],
   "source": [
    "import pandas as pd"
   ]
  },
  {
   "cell_type": "code",
   "execution_count": 2,
   "id": "348eb043-4ad3-4181-9972-dc138f04d0d1",
   "metadata": {},
   "outputs": [
    {
     "ename": "ModuleNotFoundError",
     "evalue": "No module named 'streamlit'",
     "output_type": "error",
     "traceback": [
      "\u001b[1;31m---------------------------------------------------------------------------\u001b[0m",
      "\u001b[1;31mModuleNotFoundError\u001b[0m                       Traceback (most recent call last)",
      "Cell \u001b[1;32mIn[2], line 1\u001b[0m\n\u001b[1;32m----> 1\u001b[0m \u001b[38;5;28;01mimport\u001b[39;00m \u001b[38;5;21;01mstreamlit\u001b[39;00m \u001b[38;5;28;01mas\u001b[39;00m \u001b[38;5;21;01mst\u001b[39;00m\n\u001b[0;32m      3\u001b[0m \u001b[38;5;66;03m# 1. Displaying Text\u001b[39;00m\n\u001b[0;32m      4\u001b[0m st\u001b[38;5;241m.\u001b[39mwrite(\u001b[38;5;124m\"\u001b[39m\u001b[38;5;124mWelcome to My First Streamlit App!\u001b[39m\u001b[38;5;124m\"\u001b[39m)\n",
      "\u001b[1;31mModuleNotFoundError\u001b[0m: No module named 'streamlit'"
     ]
    }
   ],
   "source": [
    "import streamlit as st\n",
    "\n",
    "# 1. Displaying Text\n",
    "st.write(\"Welcome to My First Streamlit App!\")\n",
    "\n",
    "# 2. Adding a Header\n",
    "st.header(\"This is a Header\")\n",
    "\n",
    "# 3. Using a Button\n",
    "if st.button(\"Click Me!\"):\n",
    "    st.write(\"Button Clicked!\")\n",
    "\n",
    "# 4. Displaying a Simple List\n",
    "fruits = [\"Apple\", \"Banana\", \"Cherry\"]\n",
    "st.write(f\"My favorite fruits are: {', '.join(fruits)}\")\n",
    "\n",
    "# 5. Adding an Image\n",
    "image_url = \"https://example.com/path_to_image.jpg\"\n",
    "st.image(image_url, caption=\"This is an example image\")\n"
   ]
  },
  {
   "cell_type": "code",
   "execution_count": null,
   "id": "ccfb417b-4828-4cd5-9fb8-34ca3497ca2d",
   "metadata": {},
   "outputs": [],
   "source": []
  }
 ],
 "metadata": {
  "kernelspec": {
   "display_name": "Python 3 (ipykernel)",
   "language": "python",
   "name": "python3"
  },
  "language_info": {
   "codemirror_mode": {
    "name": "ipython",
    "version": 3
   },
   "file_extension": ".py",
   "mimetype": "text/x-python",
   "name": "python",
   "nbconvert_exporter": "python",
   "pygments_lexer": "ipython3",
   "version": "3.10.7"
  }
 },
 "nbformat": 4,
 "nbformat_minor": 5
}
